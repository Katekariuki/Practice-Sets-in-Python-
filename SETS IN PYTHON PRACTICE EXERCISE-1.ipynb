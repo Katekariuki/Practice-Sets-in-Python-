{
 "cells": [
  {
   "cell_type": "markdown",
   "metadata": {},
   "source": [
    "## Exercises: Level 1\n",
    "1. Find the length of the set it companies\n",
    "2. Add 'Twitter' to it_companies\n",
    "3. Insert multiple IT companies at once to the set it companies\n",
    "4. Remove one of the companies from the set it companies\n",
    "5. What is the difference between remove and discard\n",
    "## Exercises: Level 2\n",
    "1. Join A and B\n",
    "2. Find A intersection B\n",
    "3. Is A subset of B\n",
    "4. Are A and B disjoint sets\n",
    "5. Join A with B and B with A\n",
    "6. What is the symmetric difference between A and B\n"
   ]
  },
  {
   "cell_type": "code",
   "execution_count": 26,
   "metadata": {},
   "outputs": [],
   "source": [
    "#SETS\n",
    "it_companies={'Facebook','Google','Microsoft','Apple','IBM','Oracle','Amazon'}\n",
    "A={19,22,24,20,25,26}\n",
    "B={19,22,20,25,26,24,28,27}\n",
    "age={22,19,24,25,26,24,25,24}"
   ]
  },
  {
   "cell_type": "code",
   "execution_count": 4,
   "metadata": {},
   "outputs": [
    {
     "name": "stdout",
     "output_type": "stream",
     "text": [
      "7\n"
     ]
    }
   ],
   "source": [
    "#Finding length of a set/total number of items in a set\n",
    "length_it_companies=len(it_companies)\n",
    "print(length_it_companies)"
   ]
  },
  {
   "cell_type": "code",
   "execution_count": 5,
   "metadata": {},
   "outputs": [
    {
     "name": "stdout",
     "output_type": "stream",
     "text": [
      "{'Microsoft', 'Amazon', 'Apple', 'Google', 'Oracle', 'Twitter', 'IBM', 'Facebook'}\n"
     ]
    }
   ],
   "source": [
    "#adding an item to a set \n",
    "it_companies.add('Twitter')\n",
    "print(it_companies)"
   ]
  },
  {
   "cell_type": "code",
   "execution_count": 6,
   "metadata": {},
   "outputs": [
    {
     "name": "stdout",
     "output_type": "stream",
     "text": [
      "{'Microsoft', 'Google', 'Twitter', 'TCS', 'Amazon', 'Apple', 'Deloitte', 'SAP', 'Oracle', 'IBM', 'Facebook'}\n"
     ]
    }
   ],
   "source": [
    "#Inserting multiple values to a set #wrong output: need more research on getting the correct output\n",
    "multiple_companies={'SAP','TCS','Deloitte'}\n",
    "it_companies.update(multiple_companies)\n",
    "print(it_companies)\n"
   ]
  },
  {
   "cell_type": "code",
   "execution_count": 7,
   "metadata": {},
   "outputs": [
    {
     "name": "stdout",
     "output_type": "stream",
     "text": [
      "{'Microsoft', 'Google', 'Twitter', 'TCS', 'Amazon', 'Apple', 'Deloitte', 'SAP', 'Oracle', 'IBM'}\n"
     ]
    }
   ],
   "source": [
    "#removing a value from a set\n",
    "it_companies.remove('Facebook')\n",
    "print(it_companies)"
   ]
  },
  {
   "cell_type": "code",
   "execution_count": null,
   "metadata": {},
   "outputs": [],
   "source": [
    "#Difference between discard and remove\n",
    "#discard removes the item and does not return an error if the item is not found.\n",
    "#remove will take away the item but if the item does not exist, it will return an error\n",
    "it_companies.discard('Deloitte')"
   ]
  },
  {
   "cell_type": "markdown",
   "metadata": {},
   "source": [
    "## Exercise 2"
   ]
  },
  {
   "cell_type": "code",
   "execution_count": 9,
   "metadata": {},
   "outputs": [
    {
     "name": "stdout",
     "output_type": "stream",
     "text": [
      "{19, 20, 22, 24, 25, 26, 27, 28}\n"
     ]
    }
   ],
   "source": [
    "#Joining sets\n",
    "AB=A.union(B)\n",
    "print(AB)"
   ]
  },
  {
   "cell_type": "code",
   "execution_count": 19,
   "metadata": {},
   "outputs": [
    {
     "name": "stdout",
     "output_type": "stream",
     "text": [
      "{19, 20, 22, 24, 25, 26}\n"
     ]
    }
   ],
   "source": [
    "#Set Intersections\n",
    "common_items=A.intersection(B)\n",
    "print(common_items)"
   ]
  },
  {
   "cell_type": "code",
   "execution_count": 16,
   "metadata": {},
   "outputs": [
    {
     "data": {
      "text/plain": [
       "True"
      ]
     },
     "execution_count": 16,
     "metadata": {},
     "output_type": "execute_result"
    }
   ],
   "source": [
    "#Is A a subset of B\n",
    "set_diff=A<=B\n",
    "set_diff"
   ]
  },
  {
   "cell_type": "code",
   "execution_count": 17,
   "metadata": {},
   "outputs": [
    {
     "data": {
      "text/plain": [
       "False"
      ]
     },
     "execution_count": 17,
     "metadata": {},
     "output_type": "execute_result"
    }
   ],
   "source": [
    "#Are A and B disjoint sets\n",
    "A.isdisjoint(B)"
   ]
  },
  {
   "cell_type": "code",
   "execution_count": 18,
   "metadata": {},
   "outputs": [
    {
     "data": {
      "text/plain": [
       "{19, 20, 22, 24, 25, 26, 27, 28}"
      ]
     },
     "execution_count": 18,
     "metadata": {},
     "output_type": "execute_result"
    }
   ],
   "source": [
    "#Join A with B and B with A\n",
    "ABBA=(A.union(B)).union(B.union(A))\n",
    "ABBA\n"
   ]
  },
  {
   "cell_type": "code",
   "execution_count": 23,
   "metadata": {},
   "outputs": [
    {
     "data": {
      "text/plain": [
       "{27, 28}"
      ]
     },
     "execution_count": 23,
     "metadata": {},
     "output_type": "execute_result"
    }
   ],
   "source": [
    "#What is the symmetric difference between A and B\n",
    "A.symmetric_difference(B)"
   ]
  },
  {
   "cell_type": "code",
   "execution_count": 29,
   "metadata": {},
   "outputs": [
    {
     "ename": "NameError",
     "evalue": "name 'age' is not defined",
     "output_type": "error",
     "traceback": [
      "\u001b[31m---------------------------------------------------------------------------\u001b[39m",
      "\u001b[31mNameError\u001b[39m                                 Traceback (most recent call last)",
      "\u001b[36mCell\u001b[39m\u001b[36m \u001b[39m\u001b[32mIn[29]\u001b[39m\u001b[32m, line 2\u001b[39m\n\u001b[32m      1\u001b[39m \u001b[38;5;66;03m#Delete all sets\u001b[39;00m\n\u001b[32m----> \u001b[39m\u001b[32m2\u001b[39m \u001b[38;5;28;01mdel\u001b[39;00m(\u001b[43mage\u001b[49m)\n\u001b[32m      3\u001b[39m age\n",
      "\u001b[31mNameError\u001b[39m: name 'age' is not defined"
     ]
    }
   ],
   "source": [
    "#Delete all sets\n",
    "del(age)\n",
    "age"
   ]
  }
 ],
 "metadata": {
  "kernelspec": {
   "display_name": "Python 3",
   "language": "python",
   "name": "python3"
  },
  "language_info": {
   "codemirror_mode": {
    "name": "ipython",
    "version": 3
   },
   "file_extension": ".py",
   "mimetype": "text/x-python",
   "name": "python",
   "nbconvert_exporter": "python",
   "pygments_lexer": "ipython3",
   "version": "3.13.2"
  }
 },
 "nbformat": 4,
 "nbformat_minor": 2
}
